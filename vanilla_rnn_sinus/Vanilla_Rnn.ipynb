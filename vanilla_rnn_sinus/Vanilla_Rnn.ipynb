{
 "cells": [
  {
   "cell_type": "code",
   "execution_count": 172,
   "metadata": {
    "collapsed": false
   },
   "outputs": [
    {
     "name": "stdout",
     "output_type": "stream",
     "text": [
      "Populating the interactive namespace from numpy and matplotlib\n"
     ]
    },
    {
     "name": "stderr",
     "output_type": "stream",
     "text": [
      "/home/luke/anaconda3/lib/python3.6/site-packages/IPython/core/magics/pylab.py:161: UserWarning: pylab import has clobbered these variables: ['sin']\n",
      "`%matplotlib` prevents importing * from pylab and numpy\n",
      "  \"\\n`%matplotlib` prevents importing * from pylab and numpy\"\n"
     ]
    }
   ],
   "source": [
    "import numpy as np\n",
    "import torch\n",
    "import torch.nn as nn\n",
    "from torch.autograd import Variable\n",
    "import torch.optim as optim\n",
    "import pylab as pl\n",
    "\n",
    "%pylab inline"
   ]
  },
  {
   "cell_type": "code",
   "execution_count": 173,
   "metadata": {
    "collapsed": true
   },
   "outputs": [],
   "source": [
    "dtype = torch.FloatTensor"
   ]
  },
  {
   "cell_type": "code",
   "execution_count": 174,
   "metadata": {
    "collapsed": false
   },
   "outputs": [],
   "source": [
    "time_steps = 8\n",
    "input_size = 1\n",
    "hidden_size = 8\n",
    "lr=0.02\n",
    "series = np.linspace(2, 5, time_steps)\n",
    "sin = np.sin(series)\n",
    "sin = sin.reshape(time_steps, 1)\n",
    "x = torch.Tensor(sin[:-1]).type(dtype)\n",
    "y = torch.Tensor(sin[1:]).type(dtype)"
   ]
  },
  {
   "cell_type": "code",
   "execution_count": 175,
   "metadata": {
    "collapsed": true
   },
   "outputs": [],
   "source": [
    "class Net(nn.Module):\n",
    "    def __init__(self, ):\n",
    "        super(Net, self).__init__()\n",
    "        self.rnn = nn.RNN(input_size, hidden_size)\n",
    "        self.linear = nn.Linear(hidden_size, input_size)\n",
    "\n",
    "    def forward(self, x, h):\n",
    "       y, h = self.rnn(x,h)\n",
    "       return self.linear(y), h"
   ]
  },
  {
   "cell_type": "code",
   "execution_count": 176,
   "metadata": {
    "collapsed": true
   },
   "outputs": [],
   "source": [
    "model = Net()\n",
    "criterion = nn.MSELoss()\n",
    "optimizer = optim.Adam(model.parameters(), lr)\n",
    "hidden_prev = Variable(torch.zeros(1, 1, hidden_size))"
   ]
  },
  {
   "cell_type": "code",
   "execution_count": 177,
   "metadata": {
    "collapsed": false
   },
   "outputs": [
    {
     "name": "stdout",
     "output_type": "stream",
     "text": [
      "Iteration: 0 loss 1.0635732412338257\n",
      "Iteration: 100 loss 0.011983425356447697\n",
      "Iteration: 200 loss 0.004236677195876837\n",
      "Iteration: 300 loss 0.009709722362458706\n",
      "Iteration: 400 loss 0.0013175669591873884\n",
      "Iteration: 500 loss 0.00032549755997024477\n",
      "Iteration: 600 loss 0.001938909525051713\n",
      "Iteration: 700 loss 0.00035331526305526495\n",
      "Iteration: 800 loss 0.0005032086628489196\n",
      "Iteration: 900 loss 0.0015667311381548643\n",
      "Iteration: 1000 loss 0.003561558434739709\n",
      "Iteration: 1100 loss 0.0010968598071485758\n",
      "Iteration: 1200 loss 0.001038520596921444\n",
      "Iteration: 1300 loss 0.00033847056329250336\n",
      "Iteration: 1400 loss 0.0002936437667813152\n",
      "Iteration: 1500 loss 1.5748457371955737e-05\n",
      "Iteration: 1600 loss 0.004853446967899799\n",
      "Iteration: 1700 loss 8.295299267047085e-06\n",
      "Iteration: 1800 loss 0.0009139871690422297\n",
      "Iteration: 1900 loss 0.0007463382789865136\n"
     ]
    }
   ],
   "source": [
    "for iter in range(2000):\n",
    "      i = iter % x.size(0)\n",
    "      current_y = y[i:(i+1)]\n",
    "      current_x = x[i:(i+1)]\n",
    "      inputs, labels = Variable(current_x), Variable(current_y)\n",
    "      hidden_prev = Variable(torch.zeros(1, 1, hidden_size))\n",
    "      output, hidden_prev = model(inputs, hidden_prev)\n",
    "      loss = criterion(output, labels)\n",
    "      model.zero_grad()\n",
    "      loss.backward()\n",
    "      optimizer.step()\n",
    "      if iter % 100 == 0:\n",
    "        print(\"Iteration: {} loss {}\".format(iter, loss.data[0]))"
   ]
  },
  {
   "cell_type": "code",
   "execution_count": 178,
   "metadata": {
    "collapsed": false
   },
   "outputs": [
    {
     "data": {
      "image/png": "[encoded data removed]",
      "text/plain": [
       "<matplotlib.figure.Figure at 0x7fb498acd3c8>"
      ]
     },
     "metadata": {},
     "output_type": "display_data"
    }
   ],
   "source": [
    "predictions = []\n",
    "input = Variable(x[0])\n",
    "for _ in range(x.shape[0]):\n",
    "  input = input.view(1, 1)\n",
    "  (pred, hidden_prev) = model(input, hidden_prev)\n",
    "  input = pred\n",
    "  hidden_prev = hidden_prev\n",
    "  predictions.append(pred.data.numpy().ravel()[0])\n",
    "\n",
    "x = x.numpy()\n",
    "y = y.numpy()\n",
    "pl.scatter(series[:-1] , x, s=90)\n",
    "pl.scatter(series[1:], predictions)\n",
    "pl.show()\n"
   ]
  }
 ],
 "metadata": {
  "kernelspec": {
   "display_name": "Python 3",
   "language": "python",
   "name": "python3"
  },
  "language_info": {
   "codemirror_mode": {
    "name": "ipython",
    "version": 3
   },
   "file_extension": ".py",
   "mimetype": "text/x-python",
   "name": "python",
   "nbconvert_exporter": "python",
   "pygments_lexer": "ipython3",
   "version": "3.6.0"
  }
 },
 "nbformat": 4,
 "nbformat_minor": 2
}
