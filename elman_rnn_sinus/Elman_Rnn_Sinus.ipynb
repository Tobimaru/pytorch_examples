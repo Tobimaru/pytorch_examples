{
 "cells": [
  {
   "cell_type": "code",
   "execution_count": 1,
   "metadata": {
    "collapsed": false
   },
   "outputs": [
    {
     "name": "stdout",
     "output_type": "stream",
     "text": [
      "Populating the interactive namespace from numpy and matplotlib\n"
     ]
    }
   ],
   "source": [
    "import torch\n",
    "from torch.autograd import Variable\n",
    "import numpy as np\n",
    "import pylab as pl\n",
    "import time\n",
    "%pylab inline"
   ]
  },
  {
   "cell_type": "code",
   "execution_count": 2,
   "metadata": {
    "collapsed": true
   },
   "outputs": [],
   "source": [
    "dtype = torch.FloatTensor"
   ]
  },
  {
   "cell_type": "code",
   "execution_count": 3,
   "metadata": {
    "collapsed": true
   },
   "outputs": [],
   "source": [
    "np.random.seed(1)"
   ]
  },
  {
   "cell_type": "code",
   "execution_count": 4,
   "metadata": {
    "collapsed": true
   },
   "outputs": [],
   "source": [
    "Input, Hidden, Output = 7, 6, 1\n",
    "time_steps = 10\n",
    "lr = 0.2\n",
    "series = np.linspace(2, 5, time_steps)\n",
    "y = np.sin(series)\n",
    "y.resize((time_steps, 1))\n",
    "x = Variable(torch.Tensor(y[:-1]).type(dtype), requires_grad=False)\n",
    "y = Variable(torch.Tensor(y[1:]).type(dtype), requires_grad=False)"
   ]
  },
  {
   "cell_type": "code",
   "execution_count": 5,
   "metadata": {
    "collapsed": true
   },
   "outputs": [],
   "source": [
    "lim = np.sqrt(6) / (np.sqrt(Input + Hidden))\n",
    "w1 = np.random.uniform(-lim, lim, [Input, Hidden])\n",
    "w1 = Variable(torch.from_numpy(w1).type(dtype), requires_grad=True)\n",
    "lim = np.sqrt(6) / (np.sqrt(Output + Hidden))\n",
    "w2 = np.random.uniform(-lim, lim, [Hidden, Output])\n",
    "w2 = Variable(torch.from_numpy(w2).type(dtype), requires_grad=True)\n",
    "hidden_prev = torch.zeros((1, Hidden)).type(dtype)"
   ]
  },
  {
   "cell_type": "code",
   "execution_count": 6,
   "metadata": {
    "collapsed": true
   },
   "outputs": [],
   "source": [
    "def forward(x, w1, w2):\n",
    "  h = torch.tanh(Variable(x).mm(w1))\n",
    "  return   (h.mm(w2), h)"
   ]
  },
  {
   "cell_type": "code",
   "execution_count": 13,
   "metadata": {
    "collapsed": false
   },
   "outputs": [
    {
     "name": "stdout",
     "output_type": "stream",
     "text": [
      "Iteration: 0 loss 0.0057675656862556934\n",
      "Iteration: 200 loss 7.655515901205945e-07\n",
      "Iteration: 400 loss 1.2261809388292022e-05\n",
      "Iteration: 600 loss 0.00013975623005535454\n",
      "Iteration: 800 loss 0.0001224095467478037\n",
      "Iteration: 1000 loss 7.547299105681304e-07\n",
      "Iteration: 1200 loss 5.98442511545727e-06\n",
      "Iteration: 1400 loss 3.1797317205928266e-05\n",
      "Iteration: 1600 loss 0.0005339903873391449\n",
      "Iteration: 1800 loss 1.7459348100601346e-07\n",
      "Iteration: 2000 loss 3.833439166101016e-07\n",
      "Iteration: 2200 loss 9.974828572012484e-06\n",
      "Iteration: 2400 loss 0.00013274239609017968\n",
      "Iteration: 2600 loss 8.3095786976628e-05\n",
      "Iteration: 2800 loss 6.989023972892028e-07\n"
     ]
    }
   ],
   "source": [
    "for iter in range(3000):\n",
    "\n",
    "  i = iter % x.size(0)\n",
    "  variable_y = y[i:(i+1)]\n",
    "  current_x = x[i:(i+1)].data\n",
    "  xh = torch.cat([current_x, hidden_prev], 1)\n",
    "  variable_x = xh\n",
    "\n",
    "  variable_h = hidden_prev\n",
    "\n",
    "  (y_pred, h) = forward(variable_x, w1, w2)\n",
    "  loss = (y_pred - variable_y).pow(2).sum() /2\n",
    "  if iter % 200 == 0:       \n",
    "    print(\"Iteration: {} loss {}\".format(iter, loss.data[0]))\n",
    "\n",
    "  loss.backward()\n",
    "\n",
    "  w1.data -= lr * w1.grad.data\n",
    "  w2.data -= lr * w2.grad.data\n",
    "\n",
    "  w1.grad.data.zero_()\n",
    "  w2.grad.data.zero_()\n",
    "\n",
    "  hidden_prev = h.data\n"
   ]
  },
  {
   "cell_type": "code",
   "execution_count": 10,
   "metadata": {
    "collapsed": true
   },
   "outputs": [],
   "source": [
    "predictions = []\n",
    "for index, inp in enumerate(x):\n",
    "  xh = torch.cat([inp.view(1, 1).data, hidden_prev], 1)  \n",
    "  (pred, hidden_prev) = forward(xh, w1, w2)\n",
    "  hidden_prev = hidden_prev.data\n",
    "  predictions.append(pred.data.numpy().ravel()[0])"
   ]
  },
  {
   "cell_type": "code",
   "execution_count": 11,
   "metadata": {
    "collapsed": false
   },
   "outputs": [
    {
     "data": {
      "image/png": "[encoded data removed]",
      "text/plain": [
       "<matplotlib.figure.Figure at 0x7f0a6339ab00>"
      ]
     },
     "metadata": {},
     "output_type": "display_data"
    }
   ],
   "source": [
    "pl.scatter(series[:-1] , x.data.numpy(), s=90)\n",
    "pl.scatter(series[1:], predictions)\n",
    "pl.show()"
   ]
  },
  {
   "cell_type": "code",
   "execution_count": null,
   "metadata": {
    "collapsed": true
   },
   "outputs": [],
   "source": []
  }
 ],
 "metadata": {
  "kernelspec": {
   "display_name": "Python 3",
   "language": "python",
   "name": "python3"
  },
  "language_info": {
   "codemirror_mode": {
    "name": "ipython",
    "version": 3
   },
   "file_extension": ".py",
   "mimetype": "text/x-python",
   "name": "python",
   "nbconvert_exporter": "python",
   "pygments_lexer": "ipython3",
   "version": "3.6.0"
  }
 },
 "nbformat": 4,
 "nbformat_minor": 2
}
