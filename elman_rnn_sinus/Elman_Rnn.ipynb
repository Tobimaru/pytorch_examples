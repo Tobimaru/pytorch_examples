{
 "cells": [
  {
   "cell_type": "code",
   "execution_count": 52,
   "metadata": {
    "collapsed": false
   },
   "outputs": [
    {
     "name": "stdout",
     "output_type": "stream",
     "text": [
      "Populating the interactive namespace from numpy and matplotlib\n"
     ]
    },
    {
     "name": "stderr",
     "output_type": "stream",
     "text": [
      "/home/luke/anaconda3/lib/python3.6/site-packages/IPython/core/magics/pylab.py:161: UserWarning: pylab import has clobbered these variables: ['sin', 'dtype']\n",
      "`%matplotlib` prevents importing * from pylab and numpy\n",
      "  \"\\n`%matplotlib` prevents importing * from pylab and numpy\"\n"
     ]
    }
   ],
   "source": [
    "import torch\n",
    "from torch.autograd import Variable\n",
    "import numpy as np\n",
    "import pylab as pl\n",
    "import time\n",
    "%pylab inline"
   ]
  },
  {
   "cell_type": "code",
   "execution_count": 53,
   "metadata": {
    "collapsed": true
   },
   "outputs": [],
   "source": [
    "dtype = torch.FloatTensor"
   ]
  },
  {
   "cell_type": "code",
   "execution_count": 54,
   "metadata": {
    "collapsed": true
   },
   "outputs": [],
   "source": [
    "np.random.seed(1)"
   ]
  },
  {
   "cell_type": "code",
   "execution_count": 55,
   "metadata": {
    "collapsed": false
   },
   "outputs": [],
   "source": [
    "input_size, hidden_size, output_size = 7, 6, 1\n",
    "time_steps = 10\n",
    "lr = 0.1\n",
    "series = np.linspace(2, 5, time_steps)\n",
    "sin = np.sin(series)\n",
    "sin.resize((time_steps, 1))\n",
    "x = Variable(torch.Tensor(sin[:-1]).type(dtype), requires_grad=False)\n",
    "y = Variable(torch.Tensor(sin[1:]).type(dtype), requires_grad=False)"
   ]
  },
  {
   "cell_type": "code",
   "execution_count": 56,
   "metadata": {
    "collapsed": true
   },
   "outputs": [],
   "source": [
    "lim = np.sqrt(6) / (np.sqrt(input_size + hidden_size))\n",
    "w1 = np.random.uniform(-lim, lim, [input_size, hidden_size])\n",
    "w1 = Variable(torch.from_numpy(w1).type(dtype), requires_grad=True)\n",
    "lim = np.sqrt(6) / (np.sqrt(output_size + hidden_size))\n",
    "w2 = np.random.uniform(-lim, lim, [hidden_size, output_size])\n",
    "w2 = Variable(torch.from_numpy(w2).type(dtype), requires_grad=True)\n",
    "hidden_prev = torch.zeros((1, hidden_size)).type(dtype)"
   ]
  },
  {
   "cell_type": "code",
   "execution_count": 57,
   "metadata": {
    "collapsed": true
   },
   "outputs": [],
   "source": [
    "def forward(x, w1, w2):\n",
    "  h = torch.tanh(Variable(x).mm(w1))\n",
    "  return   (h.mm(w2), h)"
   ]
  },
  {
   "cell_type": "code",
   "execution_count": 61,
   "metadata": {
    "collapsed": false
   },
   "outputs": [
    {
     "name": "stdout",
     "output_type": "stream",
     "text": [
      "Iteration: 0 loss 5.191025775275193e-05\n",
      "Iteration: 200 loss 1.6264240912278183e-05\n",
      "Iteration: 400 loss 0.0012509097578004003\n",
      "Iteration: 600 loss 0.0016482655191794038\n",
      "Iteration: 800 loss 0.0004046575049869716\n"
     ]
    }
   ],
   "source": [
    "for iter in range(1000):\n",
    "\n",
    "  i = iter % x.size(0)\n",
    "  variable_y = y[i:(i+1)]\n",
    "  current_x = x[i:(i+1)].data\n",
    "  xh = torch.cat([current_x, hidden_prev], 1)    \n",
    "  (y_pred, h) = forward(xh, w1, w2)\n",
    "  loss = (y_pred - variable_y).pow(2).sum() /2\n",
    "  if iter % 200 == 0:       \n",
    "    print(\"Iteration: {} loss {}\".format(iter, loss.data[0]))\n",
    "  loss.backward()\n",
    "  w1.data -= lr * w1.grad.data\n",
    "  w2.data -= lr * w2.grad.data\n",
    "  w1.grad.data.zero_()\n",
    "  w2.grad.data.zero_()\n",
    "  hidden_prev = h.data\n"
   ]
  },
  {
   "cell_type": "code",
   "execution_count": 62,
   "metadata": {
    "collapsed": true
   },
   "outputs": [],
   "source": [
    "predictions = []\n",
    "for index, inp in enumerate(x):\n",
    "  xh = torch.cat([inp.view(1, 1).data, hidden_prev], 1)  \n",
    "  (pred, hidden_prev) = forward(xh, w1, w2)\n",
    "  hidden_prev = hidden_prev.data\n",
    "  predictions.append(pred.data.numpy().ravel()[0])"
   ]
  },
  {
   "cell_type": "code",
   "execution_count": 63,
   "metadata": {
    "collapsed": false
   },
   "outputs": [
    {
     "data": {
      "image/png": "[encoded data removed]",
      "text/plain": [
       "<matplotlib.figure.Figure at 0x7f15f563e0f0>"
      ]
     },
     "metadata": {},
     "output_type": "display_data"
    }
   ],
   "source": [
    "pl.scatter(series[:-1] , x.data.numpy(), s=90)\n",
    "pl.scatter(series[1:], predictions)\n",
    "pl.show()"
   ]
  },
  {
   "cell_type": "code",
   "execution_count": null,
   "metadata": {
    "collapsed": true
   },
   "outputs": [],
   "source": []
  }
 ],
 "metadata": {
  "kernelspec": {
   "display_name": "Python 3",
   "language": "python",
   "name": "python3"
  },
  "language_info": {
   "codemirror_mode": {
    "name": "ipython",
    "version": 3
   },
   "file_extension": ".py",
   "mimetype": "text/x-python",
   "name": "python",
   "nbconvert_exporter": "python",
   "pygments_lexer": "ipython3",
   "version": "3.6.0"
  }
 },
 "nbformat": 4,
 "nbformat_minor": 2
}
