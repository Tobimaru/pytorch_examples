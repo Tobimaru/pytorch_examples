{
 "cells": [
  {
   "cell_type": "code",
   "execution_count": 1,
   "metadata": {
    "collapsed": false
   },
   "outputs": [
    {
     "name": "stdout",
     "output_type": "stream",
     "text": [
      "Populating the interactive namespace from numpy and matplotlib\n"
     ]
    }
   ],
   "source": [
    "import numpy as np\n",
    "import torch\n",
    "import torch.nn as nn\n",
    "from torch.autograd import Variable\n",
    "import torch.optim as optim\n",
    "import pylab as pl\n",
    "\n",
    "%pylab inline"
   ]
  },
  {
   "cell_type": "code",
   "execution_count": 2,
   "metadata": {
    "collapsed": false
   },
   "outputs": [
    {
     "data": {
      "text/plain": [
       "<torch._C.Generator at 0x7fc5cb653230>"
      ]
     },
     "execution_count": 2,
     "metadata": {},
     "output_type": "execute_result"
    }
   ],
   "source": [
    "dtype = torch.FloatTensor\n",
    "torch.manual_seed(2)"
   ]
  },
  {
   "cell_type": "code",
   "execution_count": 3,
   "metadata": {
    "collapsed": false
   },
   "outputs": [],
   "source": [
    "time_steps = 12\n",
    "input_size = 1\n",
    "hidden_size = 32\n",
    "output_size = 1\n",
    "lr=0.02\n",
    "time_series = np.linspace(0, 10, time_steps)\n",
    "sinus_time_series = np.sin(time_series)\n",
    "sinus_time_series = sinus_time_series.reshape(time_steps, 1)\n",
    "x = torch.Tensor(sinus_time_series[:-1]).type(dtype).view(1, time_steps - 1, 1)\n",
    "y = torch.Tensor(sinus_time_series[1:]).type(dtype).view(1, time_steps - 1, 1)"
   ]
  },
  {
   "cell_type": "code",
   "execution_count": 4,
   "metadata": {
    "collapsed": true
   },
   "outputs": [],
   "source": [
    "class Net(nn.Module):\n",
    "    def __init__(self, ):\n",
    "        super(Net, self).__init__()\n",
    "\n",
    "        self.rnn = nn.RNN(\n",
    "            input_size=input_size,\n",
    "            hidden_size=hidden_size,\n",
    "            num_layers=1,\n",
    "            batch_first=True,\n",
    "        )\n",
    "        self.linear = nn.Linear(hidden_size, output_size)\n",
    "\n",
    "    def forward(self, x, hidden_prev):\n",
    "       out, hidden_prev = self.rnn(x, hidden_prev)\n",
    "       out = out.view(-1, hidden_size)\n",
    "       out = torch.stack(self.linear(out), dim=1)\n",
    "       return out, hidden_prev"
   ]
  },
  {
   "cell_type": "code",
   "execution_count": 5,
   "metadata": {
    "collapsed": true
   },
   "outputs": [],
   "source": [
    "model = Net()\n",
    "criterion = nn.MSELoss()\n",
    "optimizer = optim.Adam(model.parameters(), lr)\n",
    "hidden_prev = Variable(torch.zeros(1, 1, hidden_size))\n",
    "x, y = Variable(x), Variable(y)"
   ]
  },
  {
   "cell_type": "code",
   "execution_count": 6,
   "metadata": {
    "collapsed": false
   },
   "outputs": [
    {
     "name": "stdout",
     "output_type": "stream",
     "text": [
      "Iteration: 0 loss 0.5534168481826782\n",
      "Iteration: 100 loss 0.21294385194778442\n",
      "Iteration: 200 loss 0.04000724479556084\n",
      "Iteration: 300 loss 0.005206013564020395\n",
      "Iteration: 400 loss 0.0005896748625673354\n",
      "Iteration: 500 loss 0.0003859095158986747\n",
      "Iteration: 600 loss 4.483406519284472e-05\n",
      "Iteration: 700 loss 2.085681899188785e-06\n",
      "Iteration: 800 loss 0.005243259947746992\n",
      "Iteration: 900 loss 6.659157492094891e-08\n",
      "Iteration: 1000 loss 8.919746719016075e-09\n",
      "Iteration: 1100 loss 0.00012643875379581004\n",
      "Iteration: 1200 loss 5.929792337155959e-07\n",
      "Iteration: 1300 loss 0.00011015934433089569\n",
      "Iteration: 1400 loss 0.00011809196439571679\n",
      "Iteration: 1500 loss 2.536743886594195e-05\n",
      "Iteration: 1600 loss 1.2486853847804014e-05\n",
      "Iteration: 1700 loss 6.453457444877131e-06\n",
      "Iteration: 1800 loss 2.967860382341314e-06\n",
      "Iteration: 1900 loss 1.183353333544801e-06\n"
     ]
    }
   ],
   "source": [
    "for iter in range(2000):\n",
    "      output, hidden_prev = model(x, hidden_prev)\n",
    "      hidden_prev = Variable(hidden_prev.data)\n",
    "      loss = criterion(output, y)\n",
    "      model.zero_grad()\n",
    "      loss.backward()\n",
    "      optimizer.step()\n",
    "      if iter % 100 == 0:\n",
    "        print(\"Iteration: {} loss {}\".format(iter, loss.data[0]))"
   ]
  },
  {
   "cell_type": "code",
   "execution_count": 7,
   "metadata": {
    "collapsed": false
   },
   "outputs": [
    {
     "data": {
      "image/png": "[encoded data removed]",
      "text/plain": [
       "<matplotlib.figure.Figure at 0x7fc5c81942b0>"
      ]
     },
     "metadata": {},
     "output_type": "display_data"
    }
   ],
   "source": [
    "predictions = []\n",
    "input = x[:, 0,:]\n",
    "for _ in range(x.shape[1]):\n",
    "  input = input.view(1, 1, 1)\n",
    "  (pred, hidden_prev) = model(input, hidden_prev)\n",
    "  input = pred\n",
    "  hidden_prev = hidden_prev\n",
    "  predictions.append(pred.data.numpy().ravel()[0])\n",
    "\n",
    "x = x.data.numpy().ravel()\n",
    "y = y.data.numpy()\n",
    "pl.scatter(time_series[:-1], x.ravel(), s=90)\n",
    "pl.plot(time_series[:-1], x.ravel())\n",
    "pl.scatter(time_series[1:], predictions)\n",
    "pl.show()\n"
   ]
  },
  {
   "cell_type": "code",
   "execution_count": null,
   "metadata": {
    "collapsed": true
   },
   "outputs": [],
   "source": []
  }
 ],
 "metadata": {
  "kernelspec": {
   "display_name": "Python 3",
   "language": "python",
   "name": "python3"
  },
  "language_info": {
   "codemirror_mode": {
    "name": "ipython",
    "version": 3
   },
   "file_extension": ".py",
   "mimetype": "text/x-python",
   "name": "python",
   "nbconvert_exporter": "python",
   "pygments_lexer": "ipython3",
   "version": "3.6.0"
  }
 },
 "nbformat": 4,
 "nbformat_minor": 2
}
