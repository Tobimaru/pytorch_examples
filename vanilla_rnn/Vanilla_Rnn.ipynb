{
 "cells": [
  {
   "cell_type": "code",
   "execution_count": 7,
   "metadata": {
    "collapsed": false
   },
   "outputs": [
    {
     "name": "stdout",
     "output_type": "stream",
     "text": [
      "Populating the interactive namespace from numpy and matplotlib\n"
     ]
    }
   ],
   "source": [
    "import numpy as np\n",
    "import torch\n",
    "import torch.nn as nn\n",
    "from torch.autograd import Variable\n",
    "import torch.optim as optim\n",
    "import pylab as pl\n",
    "\n",
    "%pylab inline"
   ]
  },
  {
   "cell_type": "code",
   "execution_count": 14,
   "metadata": {
    "collapsed": false
   },
   "outputs": [
    {
     "data": {
      "text/plain": [
       "<torch._C.Generator at 0x7f29498412b0>"
      ]
     },
     "execution_count": 14,
     "metadata": {},
     "output_type": "execute_result"
    }
   ],
   "source": [
    "dtype = torch.FloatTensor\n",
    "torch.manual_seed(1)"
   ]
  },
  {
   "cell_type": "code",
   "execution_count": 15,
   "metadata": {
    "collapsed": false
   },
   "outputs": [],
   "source": [
    "time_steps = 12\n",
    "input_size = 1\n",
    "hidden_size = 32\n",
    "output_size = 1\n",
    "lr=0.02\n",
    "time_series = np.linspace(0, 10, time_steps)\n",
    "sinus_time_series = np.sin(time_series)\n",
    "sinus_time_series = sinus_time_series.reshape(time_steps, 1)\n",
    "x = torch.Tensor(sinus_time_series[:-1]).type(dtype).view(1, time_steps - 1, 1)\n",
    "y = torch.Tensor(sinus_time_series[1:]).type(dtype).view(1, time_steps - 1, 1)"
   ]
  },
  {
   "cell_type": "code",
   "execution_count": 16,
   "metadata": {
    "collapsed": true
   },
   "outputs": [],
   "source": [
    "class Net(nn.Module):\n",
    "    def __init__(self, ):\n",
    "        super(Net, self).__init__()\n",
    "\n",
    "        self.rnn = nn.RNN(\n",
    "            input_size=input_size,\n",
    "            hidden_size=hidden_size,\n",
    "            num_layers=1,\n",
    "            batch_first=True,\n",
    "        )\n",
    "        self.linear = nn.Linear(hidden_size, output_size)\n",
    "\n",
    "    def forward(self, x, hidden_prev):\n",
    "       out, hidden_prev = self.rnn(x, hidden_prev)\n",
    "       out = out.view(-1, hidden_size)\n",
    "       out = torch.stack(self.linear(out), dim=1)\n",
    "       return out, hidden_prev"
   ]
  },
  {
   "cell_type": "code",
   "execution_count": 17,
   "metadata": {
    "collapsed": true
   },
   "outputs": [],
   "source": [
    "model = Net()\n",
    "criterion = nn.MSELoss()\n",
    "optimizer = optim.Adam(model.parameters(), lr)\n",
    "hidden_prev = Variable(torch.zeros(1, 1, hidden_size))\n",
    "x, y = Variable(x), Variable(y)"
   ]
  },
  {
   "cell_type": "code",
   "execution_count": 18,
   "metadata": {
    "collapsed": false
   },
   "outputs": [
    {
     "name": "stdout",
     "output_type": "stream",
     "text": [
      "Iteration: 0 loss 0.5469983816146851\n",
      "Iteration: 100 loss 0.045802030712366104\n",
      "Iteration: 200 loss 0.08152885735034943\n",
      "Iteration: 300 loss 0.15813066065311432\n",
      "Iteration: 400 loss 0.1422843635082245\n",
      "Iteration: 500 loss 0.5004843473434448\n",
      "Iteration: 600 loss 0.13169783353805542\n",
      "Iteration: 700 loss 0.11995396018028259\n",
      "Iteration: 800 loss 0.20726917684078217\n",
      "Iteration: 900 loss 0.1794283539056778\n",
      "Iteration: 1000 loss 0.15386047959327698\n",
      "Iteration: 1100 loss 0.08826891332864761\n",
      "Iteration: 1200 loss 0.112653449177742\n",
      "Iteration: 1300 loss 0.01732793264091015\n",
      "Iteration: 1400 loss 0.003111728234216571\n",
      "Iteration: 1500 loss 0.0019713693764060736\n",
      "Iteration: 1600 loss 0.0015834476798772812\n",
      "Iteration: 1700 loss 0.0013276166282594204\n",
      "Iteration: 1800 loss 0.0011625736951828003\n",
      "Iteration: 1900 loss 0.0010869029210880399\n"
     ]
    }
   ],
   "source": [
    "for iter in range(2000):\n",
    "      output, hidden_prev = model(x, hidden_prev)\n",
    "      hidden_prev = Variable(hidden_prev.data)\n",
    "      loss = criterion(output, y)\n",
    "      model.zero_grad()\n",
    "      loss.backward()\n",
    "      optimizer.step()\n",
    "      if iter % 100 == 0:\n",
    "        print(\"Iteration: {} loss {}\".format(iter, loss.data[0]))"
   ]
  },
  {
   "cell_type": "code",
   "execution_count": 19,
   "metadata": {
    "collapsed": false
   },
   "outputs": [
    {
     "data": {
      "image/png": "[encoded data removed]",
      "text/plain": [
       "<matplotlib.figure.Figure at 0x7f294189e908>"
      ]
     },
     "metadata": {},
     "output_type": "display_data"
    }
   ],
   "source": [
    "predictions = []\n",
    "input = x[:, 0,:]\n",
    "for _ in range(x.shape[1]):\n",
    "  input = input.view(1, 1, 1)\n",
    "  (pred, hidden_prev) = model(input, hidden_prev)\n",
    "  input = pred\n",
    "  hidden_prev = hidden_prev\n",
    "  predictions.append(pred.data.numpy().ravel()[0])\n",
    "\n",
    "x = x.data.numpy().ravel()\n",
    "y = y.data.numpy()\n",
    "pl.scatter(time_series[:-1], x.ravel(), s=90)\n",
    "pl.plot(time_series[:-1], x.ravel())\n",
    "pl.scatter(time_series[1:], predictions)\n",
    "pl.show()\n"
   ]
  },
  {
   "cell_type": "code",
   "execution_count": null,
   "metadata": {
    "collapsed": true
   },
   "outputs": [],
   "source": []
  }
 ],
 "metadata": {
  "kernelspec": {
   "display_name": "Python 3",
   "language": "python",
   "name": "python3"
  },
  "language_info": {
   "codemirror_mode": {
    "name": "ipython",
    "version": 3
   },
   "file_extension": ".py",
   "mimetype": "text/x-python",
   "name": "python",
   "nbconvert_exporter": "python",
   "pygments_lexer": "ipython3",
   "version": "3.6.0"
  }
 },
 "nbformat": 4,
 "nbformat_minor": 2
}
